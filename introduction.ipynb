{
 "cells": [
  {
   "cell_type": "markdown",
   "metadata": {},
   "source": [
    "# 基础知识\n",
    "\n",
    "1. 命名规则\n",
    "2. 转义字符"
   ]
  },
  {
   "cell_type": "markdown",
   "metadata": {},
   "source": [
    "## 1. 命名规则\n",
    "\n",
    ">There are only two hard things in Computer Science: cache invalidatioin and naming things.--Phil Karlton"
   ]
  },
  {
   "cell_type": "markdown",
   "metadata": {},
   "source": [
    "* 我们通常用小写字母代表变量，如var\n",
    "* 用大写字母开头代表类，如Class\n",
    "* 全部用大写字母代表常量，如CONST\n",
    "\n",
    "当我们学的更多，写的代码规模更大时，我们就需要要对我们每个.py文件、函数和类，妥善管理命名空间。\n",
    "\n",
    "《python之禅》(The Zen of Python)一书中说：\n",
    ">Namespaces are one honking great idea"
   ]
  },
  {
   "cell_type": "code",
   "execution_count": 10,
   "metadata": {},
   "outputs": [
    {
     "name": "stdout",
     "output_type": "stream",
     "text": [
      "The Zen of Python, by Tim Peters\n",
      "\n",
      "Beautiful is better than ugly.\n",
      "Explicit is better than implicit.\n",
      "Simple is better than complex.\n",
      "Complex is better than complicated.\n",
      "Flat is better than nested.\n",
      "Sparse is better than dense.\n",
      "Readability counts.\n",
      "Special cases aren't special enough to break the rules.\n",
      "Although practicality beats purity.\n",
      "Errors should never pass silently.\n",
      "Unless explicitly silenced.\n",
      "In the face of ambiguity, refuse the temptation to guess.\n",
      "There should be one-- and preferably only one --obvious way to do it.\n",
      "Although that way may not be obvious at first unless you're Dutch.\n",
      "Now is better than never.\n",
      "Although never is often better than *right* now.\n",
      "If the implementation is hard to explain, it's a bad idea.\n",
      "If the implementation is easy to explain, it may be a good idea.\n",
      "Namespaces are one honking great idea -- let's do more of those!\n"
     ]
    }
   ],
   "source": [
    "# The Zen of Python\n",
    "import this"
   ]
  },
  {
   "cell_type": "markdown",
   "metadata": {},
   "source": [
    "## 2. 转义字符\n",
    "\n",
    "|符号|含义|\n",
    "|---|---|\n",
    "|\\ (在结尾)|续行符|\n",
    "|\\n|换行符|\n",
    "|\\t|制表符|\n"
   ]
  },
  {
   "cell_type": "code",
   "execution_count": 9,
   "metadata": {},
   "outputs": [
    {
     "name": "stdout",
     "output_type": "stream",
     "text": [
      "1 3\n",
      "1 \n",
      " 3\n",
      "1 \t 3\n"
     ]
    }
   ],
   "source": [
    "print(1, 3)\n",
    "print(1, \"\\n\" , 3)\n",
    "print(1, \"\\t\" , 3)"
   ]
  },
  {
   "cell_type": "markdown",
   "metadata": {},
   "source": [
    "## 3. 索引和切片\n",
    "\n",
    "Python的索引从0开始，到N-1结束！\\\n",
    "*[Why numbering should start at zero](https://www.cs.utexas.edu/users/EWD/transcriptions/EWD08xx/EWD831.html)*"
   ]
  },
  {
   "cell_type": "markdown",
   "metadata": {},
   "source": [
    "## 4. 字符串操作"
   ]
  },
  {
   "cell_type": "markdown",
   "metadata": {},
   "source": [
    "python中有丰富的字符串操作，[Python字符串操作](https://docs.python.org/3/library/stdtypes.html#string-methods)"
   ]
  },
  {
   "cell_type": "code",
   "execution_count": 27,
   "metadata": {},
   "outputs": [
    {
     "name": "stdout",
     "output_type": "stream",
     "text": [
      "  hello  world\n",
      "  Hello  world\n",
      "hello  world\n",
      "  helloworld\n",
      "helloworld\n"
     ]
    }
   ],
   "source": [
    "print(\"  hello  \" + \"world\")# 原字符串\n",
    "print(\"  hello  \".title() + \"world\")# 首字母大写\n",
    "print(\"  hello  \".lstrip() + \"world\")# 移除左空格\n",
    "print(\"  hello  \".rstrip() + \"world\")# 移除右空格\n",
    "print(\"  hello  \".strip() + \"world\")# 移除两侧空格"
   ]
  },
  {
   "cell_type": "markdown",
   "metadata": {},
   "source": [
    "## 5. 浮点数输出格式控制"
   ]
  },
  {
   "cell_type": "code",
   "execution_count": 30,
   "metadata": {},
   "outputs": [
    {
     "name": "stdout",
     "output_type": "stream",
     "text": [
      "314.16\n",
      "  314.1593\n",
      "314.1593\n",
      "3.141593e+02\n",
      "3.1416e+02\n"
     ]
    }
   ],
   "source": [
    "x = 314.159265357\n",
    "print('%6.2f' % x)\n",
    "# .前的数字代表一共占多少位(包括小数点)\n",
    "# .后面表示小数点后有多少位数字\n",
    "print('%10.4f' % x)\n",
    "print('%.4f' % x)\n",
    "print('%e' % x)\n",
    "print('%.4e' % x)"
   ]
  },
  {
   "cell_type": "markdown",
   "metadata": {},
   "source": [
    "## 6. 帮助文档"
   ]
  },
  {
   "cell_type": "markdown",
   "metadata": {},
   "source": [
    "就如下面展示的，docstring可以在模块(.py文件)、类、函数中添加额外的上下文，可以告诉读者代码的表现形式，阅读[维基百科](https://en.wikipedia.org/wiki/Docstring)以了解更多！"
   ]
  },
  {
   "cell_type": "code",
   "execution_count": 1,
   "metadata": {},
   "outputs": [
    {
     "name": "stdout",
     "output_type": "stream",
     "text": [
      "Help on function example in module __main__:\n",
      "\n",
      "example(x, y)\n",
      "    thid is a docstring\n",
      "\n"
     ]
    }
   ],
   "source": [
    "def example(x, y):\n",
    "    '''\n",
    "    thid is a docstring\n",
    "    '''\n",
    "    return x+y\n",
    "\n",
    "help(example)"
   ]
  },
  {
   "cell_type": "markdown",
   "metadata": {},
   "source": [
    "## 7. 迭代器和生成器\n",
    "\n",
    "[官方文档](https://docs.python.org/zh-cn/3/tutorial/classes.html#iterators)\n",
    "\n",
    "迭代器是一种方便我们进行遍历循环的利器。它设定了默认的迭代行为，而不用像其他语言一样每次都得自己输入，例如：`for(int i=0;i<10;i++)`\n",
    "\n",
    "当我们使用for循环时，会调用iter()方法，返回一个具有next()方法的迭代器对象。你可以设定迭代方法next()"
   ]
  },
  {
   "cell_type": "code",
   "execution_count": 2,
   "metadata": {},
   "outputs": [
    {
     "name": "stdout",
     "output_type": "stream",
     "text": [
      "5\n",
      "4\n",
      "3\n",
      "2\n",
      "1\n"
     ]
    }
   ],
   "source": [
    "# 迭代器\n",
    "class Reverse:\n",
    "    \"\"\"Iterator for looping over a sequence backwards.\"\"\"\n",
    "    def __init__(self, data):\n",
    "        self.data = data\n",
    "        self.index = len(data)\n",
    "\n",
    "    def __iter__(self):\n",
    "        return self\n",
    "\n",
    "    def __next__(self):\n",
    "        if self.index == 0:\n",
    "            raise StopIteration\n",
    "        self.index = self.index - 1\n",
    "        return self.data[self.index]\n",
    "\n",
    "my_reverse = Reverse([1, 2, 3, 4, 5])\n",
    "for i in my_reverse:\n",
    "    print(i)"
   ]
  },
  {
   "cell_type": "markdown",
   "metadata": {},
   "source": [
    "生成器是一个用于创建迭代器的简单而强大的工具。使用yield语句，yield类似于return，但每次在生成器上调用next()时，会从上次结束的地方继续"
   ]
  }
 ],
 "metadata": {
  "kernelspec": {
   "display_name": "base",
   "language": "python",
   "name": "python3"
  },
  "language_info": {
   "codemirror_mode": {
    "name": "ipython",
    "version": 3
   },
   "file_extension": ".py",
   "mimetype": "text/x-python",
   "name": "python",
   "nbconvert_exporter": "python",
   "pygments_lexer": "ipython3",
   "version": "3.11.8"
  }
 },
 "nbformat": 4,
 "nbformat_minor": 2
}
