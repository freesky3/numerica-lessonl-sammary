{
 "cells": [
  {
   "cell_type": "markdown",
   "metadata": {},
   "source": [
    "# 预备知识\n",
    "\n",
    "1. python环境配置\n",
    "2. jupyter notebook中的常用快捷键\n",
    "3. vscode的常用快捷键\n",
    "4. markdown语法\n",
    "5. latex语法"
   ]
  },
  {
   "cell_type": "markdown",
   "metadata": {},
   "source": [
    "## 1. python环境配置"
   ]
  },
  {
   "cell_type": "markdown",
   "metadata": {},
   "source": [
    "**老师推荐配置：使用Anaconda安装**\n",
    "1. 安装python一定要去官网下载比较新的版本，不然像我一样下了一个3.8版本的python, 连作业里的match-case语法都不支持。\n",
    "2. 在Anaconda官网下载安装后，用打开后安装主页上的python和jupyter notebook即可\n",
    "---\n",
    "* 我还下载了vscode并安装了jupyter notebook插件，主要是个人用的方便，且之后可以用Fitten code插件偷懒。（如果你也一样，可以在安装了Python后，在终端用`pip install --upgrate`和`pip install jupyter notebook`来进行安装jupyter notebook）"
   ]
  },
  {
   "cell_type": "markdown",
   "metadata": {},
   "source": [
    "## 2. jupyter notebook常用快捷键\n",
    "\n",
    "命令模式 (按键 Esc 开启)\n",
    "* Enter : 转入编辑模式\n",
    "* Shift-Enter : 运行本单元，选中下个单元\n",
    "* Ctrl-Enter : 运行本单元\n",
    "* Alt-Enter : 运行本单元，在其下插入新单元\n",
    "* Y : 单元转入代码状态\n",
    "* M :单元转入markdown状态"
   ]
  },
  {
   "cell_type": "markdown",
   "metadata": {
    "vscode": {
     "languageId": "plaintext"
    }
   },
   "source": [
    "## 3. vscode常用快捷键\n",
    "\n",
    "* Ctrl + Shift + P，F1：显示命令面板 Show Command Palette\n",
    "* Ctrl + P：快速打开 Quick Open\n",
    "* Ctrl + Shift + N：新窗口/实例 New window/instance\n",
    "* Ctrl + Shift + W：关闭窗口/实例 Close window/instance"
   ]
  },
  {
   "cell_type": "markdown",
   "metadata": {},
   "source": [
    "## 4. markdown语法\n",
    "\n",
    ">**如果说什么东西只用你学半个小时，却能对你产生最大的影响，那一定是markdown语法**\n",
    "\n",
    "markdown是一种排版语法，将排版和码字二者同时进行，非常适合我这种搞不懂word、被折磨崩溃的人\n",
    "\n",
    "[教程链接](https://markdown.com.cn/basic-syntax)"
   ]
  },
  {
   "cell_type": "markdown",
   "metadata": {},
   "source": [
    "## 5. latex语法\n",
    "\n",
    "虽然网上将姜萍同学会latex吹的神乎其神（如果你不了解且对此感兴趣，可以看[这里](https://baijiahao.baidu.com/s?id=1801847684796410470)和[这里](https://www.163.com/dy/article/J5Q2RT9J05565Y4V.html)），但是会latex并不是一件很值得夸大的事。latex也是一种排版语法，它比markdown要更加笨重，但其编程式的语法使得它处理数学公式无比高效。使得庆幸的是，在一些编辑器中，我们可以在markdown语法中插入latex块，如`$\\Theta(n)$`或者`$$\\Theta(n)$$`"
   ]
  }
 ],
 "metadata": {
  "language_info": {
   "name": "python"
  }
 },
 "nbformat": 4,
 "nbformat_minor": 2
}
